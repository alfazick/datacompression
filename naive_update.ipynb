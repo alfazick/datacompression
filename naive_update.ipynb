{
 "cells": [
  {
   "cell_type": "code",
   "execution_count": 105,
   "metadata": {},
   "outputs": [],
   "source": [
    "filename = \"test.txt\""
   ]
  },
  {
   "cell_type": "code",
   "execution_count": 106,
   "metadata": {},
   "outputs": [
    {
     "name": "stdout",
     "output_type": "stream",
     "text": [
      "T 1\n",
      "h 21\n",
      "i 22\n",
      "s 21\n",
      "  82\n",
      "e 53\n",
      "b 5\n",
      "o 39\n",
      "k 5\n",
      "f 7\n",
      "r 23\n",
      "t 41\n",
      "u 13\n",
      "a 25\n",
      "n 24\n",
      "y 9\n",
      "w 12\n",
      "U 2\n",
      "d 11\n",
      "S 2\n",
      "\n",
      " 12\n",
      "m 4\n",
      "p 2\n",
      "l 11\n",
      "c 12\n",
      "v 3\n",
      ". 5\n",
      "Y 1\n",
      ", 3\n",
      "g 9\n",
      "- 1\n",
      "P 1\n",
      "j 1\n",
      "G 1\n",
      "L 2\n",
      "I 1\n",
      "B 2\n",
      "R 1\n",
      ": 2\n",
      "M 1\n",
      "2 4\n",
      "4 2\n",
      "0 1\n",
      "[ 1\n",
      "# 1\n",
      "7 1\n",
      "3 1\n",
      "5 1\n",
      "6 1\n",
      "] 1\n",
      "E 1\n"
     ]
    }
   ],
   "source": [
    "# I need to make sure that my key will not be a prefix\n",
    "\n",
    "\n",
    "from collections import defaultdict\n",
    "\n",
    "def word_counter(filename):\n",
    "    letter_frequency = defaultdict(int)\n",
    "    with open(filename,\"r\") as file:\n",
    "        \n",
    "        for line in file.readlines():\n",
    "            for chr in line:\n",
    "                letter_frequency[chr] +=1 \n",
    "                    \n",
    "\n",
    "    return letter_frequency\n",
    "\n",
    "res = word_counter(filename)\n",
    "for word in res:\n",
    "    print(word,res[word])\n",
    "\n"
   ]
  },
  {
   "cell_type": "code",
   "execution_count": 107,
   "metadata": {},
   "outputs": [
    {
     "name": "stdout",
     "output_type": "stream",
     "text": [
      "[(' ', 82), ('e', 53), ('t', 41), ('o', 39), ('a', 25), ('n', 24), ('r', 23), ('i', 22), ('h', 21), ('s', 21), ('u', 13), ('w', 12), ('\\n', 12), ('c', 12), ('d', 11), ('l', 11), ('y', 9), ('g', 9), ('f', 7), ('b', 5), ('k', 5), ('.', 5), ('m', 4), ('2', 4), ('v', 3), (',', 3), ('U', 2), ('S', 2), ('p', 2), ('L', 2), ('B', 2), (':', 2), ('4', 2), ('T', 1), ('Y', 1), ('-', 1), ('P', 1), ('j', 1), ('G', 1), ('I', 1), ('R', 1), ('M', 1), ('0', 1), ('[', 1), ('#', 1), ('7', 1), ('3', 1), ('5', 1), ('6', 1), (']', 1), ('E', 1)]\n"
     ]
    }
   ],
   "source": [
    "word_frequency = word_counter(filename)\n",
    "### Making a huge assumption\n",
    "\n",
    "\n",
    "# given the word_frequency, want to sort them\n",
    "frequency = [(key,value) for key,value in word_frequency.items()]\n",
    "\n",
    "frequency.sort(key = lambda x:x[1],reverse=True)\n",
    "print(frequency)"
   ]
  },
  {
   "cell_type": "code",
   "execution_count": 108,
   "metadata": {},
   "outputs": [],
   "source": [
    "# create encoding\n",
    "\n",
    "\n",
    "#brute-force encoding by assigning number 0,1,2,3,4\n",
    "# Note: next implementation should create a prefix free encoding, because in my current version I will just set a 2 byte for code, not good idea\n",
    "def create_encoding(frequency):\n",
    "    encoded_map = defaultdict(int)\n",
    "    for idx,(word,_) in enumerate(frequency):\n",
    "        encoded_map[word] = idx \n",
    "\n",
    "    return encoded_map\n"
   ]
  },
  {
   "cell_type": "code",
   "execution_count": 109,
   "metadata": {},
   "outputs": [
    {
     "name": "stdout",
     "output_type": "stream",
     "text": [
      "  0\n",
      "e 1\n",
      "t 2\n",
      "o 3\n",
      "a 4\n",
      "n 5\n",
      "r 6\n",
      "i 7\n",
      "h 8\n",
      "s 9\n",
      "u 10\n",
      "w 11\n",
      "\n",
      " 12\n",
      "c 13\n",
      "d 14\n",
      "l 15\n",
      "y 16\n",
      "g 17\n",
      "f 18\n",
      "b 19\n",
      "k 20\n",
      ". 21\n",
      "m 22\n",
      "2 23\n",
      "v 24\n",
      ", 25\n",
      "U 26\n",
      "S 27\n",
      "p 28\n",
      "L 29\n",
      "B 30\n",
      ": 31\n",
      "4 32\n",
      "T 33\n",
      "Y 34\n",
      "- 35\n",
      "P 36\n",
      "j 37\n",
      "G 38\n",
      "I 39\n",
      "R 40\n",
      "M 41\n",
      "0 42\n",
      "[ 43\n",
      "# 44\n",
      "7 45\n",
      "3 46\n",
      "5 47\n",
      "6 48\n",
      "] 49\n",
      "E 50\n"
     ]
    }
   ],
   "source": [
    "encoded_map = create_encoding(frequency)\n",
    "\n",
    "for key,val in encoded_map.items():\n",
    "    print(key,val)"
   ]
  },
  {
   "cell_type": "code",
   "execution_count": 110,
   "metadata": {},
   "outputs": [],
   "source": [
    "\n",
    "\n",
    "\n",
    "\n",
    "\n",
    "\n",
    "# my idea is to save encoded mapping in forms of the bytes\n",
    "\n",
    "\n",
    "def encode(encoded_map,filename):\n",
    "    encoded_file = f\"encoded_{filename}\"\n",
    "\n",
    "    num_bytes = 1 # Set a byte width for each encoding my huge assumption that it will not exceed unsigned 0 to 65,535 unique mappings\n",
    "\n",
    "    byte_file = open(encoded_file, \"wb\")\n",
    "\n",
    "\n",
    "    int_line_byte = encoded_map[\"\\n\"].to_bytes(num_bytes,byteorder = \"big\")\n",
    "    int_space_byte = encoded_map[\" \"].to_bytes(num_bytes,byteorder=\"big\")\n",
    "\n",
    "    # go over original file line by line, but now, write encodings to a byte file \n",
    "    with open(filename,\"r\") as file:\n",
    "        for line in file.readlines():\n",
    "            cur_word = \"\"\n",
    "            for chr in line:\n",
    "                cur_word += chr \n",
    "\n",
    "                if cur_word in encoded_map:\n",
    "                    int_mapping_word = encoded_map[cur_word]\n",
    "                    byte_repesentation = int_mapping_word.to_bytes(num_bytes,byteorder=\"big\")\n",
    "                    byte_file.write(byte_repesentation)\n",
    "                    cur_word = \"\"\n",
    "\n",
    "        byte_file.write(int_line_byte)\n",
    "\n",
    "    byte_file.close()\n",
    "    return encoded_file\n",
    "\n",
    "\n"
   ]
  },
  {
   "cell_type": "code",
   "execution_count": 111,
   "metadata": {},
   "outputs": [],
   "source": [
    "encoded_file_name = encode(encoded_map,filename)"
   ]
  },
  {
   "cell_type": "code",
   "execution_count": 112,
   "metadata": {},
   "outputs": [],
   "source": [
    "# reverse encoding\n",
    "reverse_int_to_word = defaultdict(str)\n",
    "\n",
    "for key,val in encoded_map.items():\n",
    "    reverse_int_to_word[val] = key \n"
   ]
  },
  {
   "cell_type": "code",
   "execution_count": 113,
   "metadata": {},
   "outputs": [
    {
     "name": "stdout",
     "output_type": "stream",
     "text": [
      "This ebook is for the use of anyone anywhere in the United States and\n",
      "most other parts of the world at no cost and with almost no restrictions\n",
      "whatsoever. You may copy it, give it away or re-use it under the terms\n",
      "of the Project Gutenberg License included with this ebook or online\n",
      "at www.gutenberg.org. If you are not located in the United States,\n",
      "you will have to check the laws of the country where you are located\n",
      "before using this eBook.\n",
      "\n",
      "\n",
      "Release date: March 24, 2024 [eBook #73256]\n",
      "\n",
      "Language: English\n",
      "\n"
     ]
    }
   ],
   "source": [
    "import os\n",
    "def decode(encoded_file,reverse_int_to_word,num_bytes,endianness):\n",
    "    text_decoded = \"\"\n",
    "    cur_bytes = num_bytes\n",
    "    size_of_file = os.stat(encoded_file).st_size\n",
    "\n",
    "    with open(encoded_file,\"rb\") as file:\n",
    "\n",
    "        while cur_bytes < size_of_file:\n",
    "            code = int.from_bytes(file.read(num_bytes),byteorder=endianness)\n",
    "\n",
    "            text_decoded += reverse_int_to_word[code]\n",
    "            cur_bytes += num_bytes\n",
    "    \n",
    "    return text_decoded\n",
    "\n",
    "\n",
    "txt = decode(encoded_file_name,reverse_int_to_word,1,\"big\")\n",
    "print(txt)\n"
   ]
  },
  {
   "cell_type": "code",
   "execution_count": 114,
   "metadata": {},
   "outputs": [],
   "source": [
    "decoded_file = f\"decoded_{filename}\"\n",
    "\n",
    "d_file = open(decoded_file,\"w\")\n",
    "d_file.write(txt)\n",
    "d_file.close()"
   ]
  },
  {
   "cell_type": "code",
   "execution_count": null,
   "metadata": {},
   "outputs": [],
   "source": []
  },
  {
   "cell_type": "code",
   "execution_count": null,
   "metadata": {},
   "outputs": [],
   "source": []
  },
  {
   "cell_type": "code",
   "execution_count": null,
   "metadata": {},
   "outputs": [],
   "source": []
  }
 ],
 "metadata": {
  "kernelspec": {
   "display_name": "Python 3",
   "language": "python",
   "name": "python3"
  },
  "language_info": {
   "codemirror_mode": {
    "name": "ipython",
    "version": 3
   },
   "file_extension": ".py",
   "mimetype": "text/x-python",
   "name": "python",
   "nbconvert_exporter": "python",
   "pygments_lexer": "ipython3",
   "version": "3.10.13"
  }
 },
 "nbformat": 4,
 "nbformat_minor": 2
}
